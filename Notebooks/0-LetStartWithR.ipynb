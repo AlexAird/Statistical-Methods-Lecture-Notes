{
  "cells": [
    {
      "metadata": {},
      "cell_type": "markdown",
      "source": "# Running Jupyter notebooks on the cloud\n\nfirst steps to work with the notebooks in the cloud: Create and run a Microsoft Azure Notebooks! \nhttps://luisa0-luisacutillo78.notebooks.azure.com/\n* Head to the website https://luisa0-luisacutillo78.notebooks.azure.com/ and click on sign-in (upper right corner). \n* If you do not have an account, click on create an account, use your email address and set a password.\n* Make sure you are logged into your account.\n* Go to the Notebook in this website that you want to run in the cloud and clone it\nThis should take you to the library where the notebooks are saved to.\nClick on the notebook’s line (it should highlight the whole line) and \"Shift+Enter\" key combination will activate the commands."
    },
    {
      "metadata": {},
      "cell_type": "markdown",
      "source": "# Our First Commands"
    },
    {
      "metadata": {
        "trusted": true
      },
      "cell_type": "code",
      "source": "3+9",
      "execution_count": 22,
      "outputs": [
        {
          "output_type": "display_data",
          "data": {
            "text/plain": "[1] 12",
            "text/latex": "12",
            "text/markdown": "12",
            "text/html": "12"
          },
          "metadata": {}
        }
      ]
    },
    {
      "metadata": {
        "trusted": true
      },
      "cell_type": "code",
      "source": "3*9",
      "execution_count": 23,
      "outputs": [
        {
          "output_type": "display_data",
          "data": {
            "text/plain": "[1] 27",
            "text/latex": "27",
            "text/markdown": "27",
            "text/html": "27"
          },
          "metadata": {}
        }
      ]
    },
    {
      "metadata": {},
      "cell_type": "markdown",
      "source": "## Help"
    },
    {
      "metadata": {
        "trusted": true
      },
      "cell_type": "code",
      "source": "help(\"median\")\n",
      "execution_count": 24,
      "outputs": []
    },
    {
      "metadata": {},
      "cell_type": "markdown",
      "source": "\n# Assignment operators and vectors\n"
    },
    {
      "metadata": {
        "trusted": true
      },
      "cell_type": "code",
      "source": "a <- 5\nprint('a=')\na\nprint('x=',x)\nx\nx <- c(1, 2, 3, 4, 5)\nx\n\nwords <- c(\"eins\", \"zwei\", \"drei\", \"vier\", \"fuenf\")\nprint('words=')\nwords\nprint(paste0('The first word is ',words[1]))\ny <- c(1:100)\nprint('y=')\ny\n\nz <-seq(from=1, to=100, by=0.5)\nprint('z=')\n\nz\n\nw <- rep(c(1,2,3), 10)\nprint('w=')\n\nw\nprint('length(w)=')\nlength(w)",
      "execution_count": 25,
      "outputs": [
        {
          "output_type": "stream",
          "text": "[1] \"a=\"\n",
          "name": "stdout"
        },
        {
          "output_type": "display_data",
          "data": {
            "text/plain": "[1] 5",
            "text/latex": "5",
            "text/markdown": "5",
            "text/html": "5"
          },
          "metadata": {}
        },
        {
          "output_type": "stream",
          "text": "[1] \"x=\"\n",
          "name": "stdout"
        },
        {
          "output_type": "display_data",
          "data": {
            "text/plain": "NULL"
          },
          "metadata": {}
        },
        {
          "output_type": "display_data",
          "data": {
            "text/plain": "[1] 1 2 3 4 5",
            "text/latex": "\\begin{enumerate*}\n\\item 1\n\\item 2\n\\item 3\n\\item 4\n\\item 5\n\\end{enumerate*}\n",
            "text/markdown": "1. 1\n2. 2\n3. 3\n4. 4\n5. 5\n\n\n",
            "text/html": "<ol class=list-inline>\n\t<li>1</li>\n\t<li>2</li>\n\t<li>3</li>\n\t<li>4</li>\n\t<li>5</li>\n</ol>\n"
          },
          "metadata": {}
        },
        {
          "output_type": "stream",
          "text": "[1] \"words=\"\n",
          "name": "stdout"
        },
        {
          "output_type": "display_data",
          "data": {
            "text/plain": "[1] \"eins\"  \"zwei\"  \"drei\"  \"vier\"  \"fuenf\"",
            "text/latex": "\\begin{enumerate*}\n\\item 'eins'\n\\item 'zwei'\n\\item 'drei'\n\\item 'vier'\n\\item 'fuenf'\n\\end{enumerate*}\n",
            "text/markdown": "1. 'eins'\n2. 'zwei'\n3. 'drei'\n4. 'vier'\n5. 'fuenf'\n\n\n",
            "text/html": "<ol class=list-inline>\n\t<li>'eins'</li>\n\t<li>'zwei'</li>\n\t<li>'drei'</li>\n\t<li>'vier'</li>\n\t<li>'fuenf'</li>\n</ol>\n"
          },
          "metadata": {}
        },
        {
          "output_type": "stream",
          "text": "[1] \"The first word is eins\"\n[1] \"y=\"\n",
          "name": "stdout"
        },
        {
          "output_type": "display_data",
          "data": {
            "text/plain": "  [1]   1   2   3   4   5   6   7   8   9  10  11  12  13  14  15  16  17  18\n [19]  19  20  21  22  23  24  25  26  27  28  29  30  31  32  33  34  35  36\n [37]  37  38  39  40  41  42  43  44  45  46  47  48  49  50  51  52  53  54\n [55]  55  56  57  58  59  60  61  62  63  64  65  66  67  68  69  70  71  72\n [73]  73  74  75  76  77  78  79  80  81  82  83  84  85  86  87  88  89  90\n [91]  91  92  93  94  95  96  97  98  99 100",
            "text/latex": "\\begin{enumerate*}\n\\item 1\n\\item 2\n\\item 3\n\\item 4\n\\item 5\n\\item 6\n\\item 7\n\\item 8\n\\item 9\n\\item 10\n\\item 11\n\\item 12\n\\item 13\n\\item 14\n\\item 15\n\\item 16\n\\item 17\n\\item 18\n\\item 19\n\\item 20\n\\item 21\n\\item 22\n\\item 23\n\\item 24\n\\item 25\n\\item 26\n\\item 27\n\\item 28\n\\item 29\n\\item 30\n\\item 31\n\\item 32\n\\item 33\n\\item 34\n\\item 35\n\\item 36\n\\item 37\n\\item 38\n\\item 39\n\\item 40\n\\item 41\n\\item 42\n\\item 43\n\\item 44\n\\item 45\n\\item 46\n\\item 47\n\\item 48\n\\item 49\n\\item 50\n\\item 51\n\\item 52\n\\item 53\n\\item 54\n\\item 55\n\\item 56\n\\item 57\n\\item 58\n\\item 59\n\\item 60\n\\item 61\n\\item 62\n\\item 63\n\\item 64\n\\item 65\n\\item 66\n\\item 67\n\\item 68\n\\item 69\n\\item 70\n\\item 71\n\\item 72\n\\item 73\n\\item 74\n\\item 75\n\\item 76\n\\item 77\n\\item 78\n\\item 79\n\\item 80\n\\item 81\n\\item 82\n\\item 83\n\\item 84\n\\item 85\n\\item 86\n\\item 87\n\\item 88\n\\item 89\n\\item 90\n\\item 91\n\\item 92\n\\item 93\n\\item 94\n\\item 95\n\\item 96\n\\item 97\n\\item 98\n\\item 99\n\\item 100\n\\end{enumerate*}\n",
            "text/markdown": "1. 1\n2. 2\n3. 3\n4. 4\n5. 5\n6. 6\n7. 7\n8. 8\n9. 9\n10. 10\n11. 11\n12. 12\n13. 13\n14. 14\n15. 15\n16. 16\n17. 17\n18. 18\n19. 19\n20. 20\n21. 21\n22. 22\n23. 23\n24. 24\n25. 25\n26. 26\n27. 27\n28. 28\n29. 29\n30. 30\n31. 31\n32. 32\n33. 33\n34. 34\n35. 35\n36. 36\n37. 37\n38. 38\n39. 39\n40. 40\n41. 41\n42. 42\n43. 43\n44. 44\n45. 45\n46. 46\n47. 47\n48. 48\n49. 49\n50. 50\n51. 51\n52. 52\n53. 53\n54. 54\n55. 55\n56. 56\n57. 57\n58. 58\n59. 59\n60. 60\n61. 61\n62. 62\n63. 63\n64. 64\n65. 65\n66. 66\n67. 67\n68. 68\n69. 69\n70. 70\n71. 71\n72. 72\n73. 73\n74. 74\n75. 75\n76. 76\n77. 77\n78. 78\n79. 79\n80. 80\n81. 81\n82. 82\n83. 83\n84. 84\n85. 85\n86. 86\n87. 87\n88. 88\n89. 89\n90. 90\n91. 91\n92. 92\n93. 93\n94. 94\n95. 95\n96. 96\n97. 97\n98. 98\n99. 99\n100. 100\n\n\n",
            "text/html": "<ol class=list-inline>\n\t<li>1</li>\n\t<li>2</li>\n\t<li>3</li>\n\t<li>4</li>\n\t<li>5</li>\n\t<li>6</li>\n\t<li>7</li>\n\t<li>8</li>\n\t<li>9</li>\n\t<li>10</li>\n\t<li>11</li>\n\t<li>12</li>\n\t<li>13</li>\n\t<li>14</li>\n\t<li>15</li>\n\t<li>16</li>\n\t<li>17</li>\n\t<li>18</li>\n\t<li>19</li>\n\t<li>20</li>\n\t<li>21</li>\n\t<li>22</li>\n\t<li>23</li>\n\t<li>24</li>\n\t<li>25</li>\n\t<li>26</li>\n\t<li>27</li>\n\t<li>28</li>\n\t<li>29</li>\n\t<li>30</li>\n\t<li>31</li>\n\t<li>32</li>\n\t<li>33</li>\n\t<li>34</li>\n\t<li>35</li>\n\t<li>36</li>\n\t<li>37</li>\n\t<li>38</li>\n\t<li>39</li>\n\t<li>40</li>\n\t<li>41</li>\n\t<li>42</li>\n\t<li>43</li>\n\t<li>44</li>\n\t<li>45</li>\n\t<li>46</li>\n\t<li>47</li>\n\t<li>48</li>\n\t<li>49</li>\n\t<li>50</li>\n\t<li>51</li>\n\t<li>52</li>\n\t<li>53</li>\n\t<li>54</li>\n\t<li>55</li>\n\t<li>56</li>\n\t<li>57</li>\n\t<li>58</li>\n\t<li>59</li>\n\t<li>60</li>\n\t<li>61</li>\n\t<li>62</li>\n\t<li>63</li>\n\t<li>64</li>\n\t<li>65</li>\n\t<li>66</li>\n\t<li>67</li>\n\t<li>68</li>\n\t<li>69</li>\n\t<li>70</li>\n\t<li>71</li>\n\t<li>72</li>\n\t<li>73</li>\n\t<li>74</li>\n\t<li>75</li>\n\t<li>76</li>\n\t<li>77</li>\n\t<li>78</li>\n\t<li>79</li>\n\t<li>80</li>\n\t<li>81</li>\n\t<li>82</li>\n\t<li>83</li>\n\t<li>84</li>\n\t<li>85</li>\n\t<li>86</li>\n\t<li>87</li>\n\t<li>88</li>\n\t<li>89</li>\n\t<li>90</li>\n\t<li>91</li>\n\t<li>92</li>\n\t<li>93</li>\n\t<li>94</li>\n\t<li>95</li>\n\t<li>96</li>\n\t<li>97</li>\n\t<li>98</li>\n\t<li>99</li>\n\t<li>100</li>\n</ol>\n"
          },
          "metadata": {}
        },
        {
          "output_type": "stream",
          "text": "[1] \"z=\"\n",
          "name": "stdout"
        },
        {
          "output_type": "display_data",
          "data": {
            "text/plain": "  [1]   1.0   1.5   2.0   2.5   3.0   3.5   4.0   4.5   5.0   5.5   6.0   6.5\n [13]   7.0   7.5   8.0   8.5   9.0   9.5  10.0  10.5  11.0  11.5  12.0  12.5\n [25]  13.0  13.5  14.0  14.5  15.0  15.5  16.0  16.5  17.0  17.5  18.0  18.5\n [37]  19.0  19.5  20.0  20.5  21.0  21.5  22.0  22.5  23.0  23.5  24.0  24.5\n [49]  25.0  25.5  26.0  26.5  27.0  27.5  28.0  28.5  29.0  29.5  30.0  30.5\n [61]  31.0  31.5  32.0  32.5  33.0  33.5  34.0  34.5  35.0  35.5  36.0  36.5\n [73]  37.0  37.5  38.0  38.5  39.0  39.5  40.0  40.5  41.0  41.5  42.0  42.5\n [85]  43.0  43.5  44.0  44.5  45.0  45.5  46.0  46.5  47.0  47.5  48.0  48.5\n [97]  49.0  49.5  50.0  50.5  51.0  51.5  52.0  52.5  53.0  53.5  54.0  54.5\n[109]  55.0  55.5  56.0  56.5  57.0  57.5  58.0  58.5  59.0  59.5  60.0  60.5\n[121]  61.0  61.5  62.0  62.5  63.0  63.5  64.0  64.5  65.0  65.5  66.0  66.5\n[133]  67.0  67.5  68.0  68.5  69.0  69.5  70.0  70.5  71.0  71.5  72.0  72.5\n[145]  73.0  73.5  74.0  74.5  75.0  75.5  76.0  76.5  77.0  77.5  78.0  78.5\n[157]  79.0  79.5  80.0  80.5  81.0  81.5  82.0  82.5  83.0  83.5  84.0  84.5\n[169]  85.0  85.5  86.0  86.5  87.0  87.5  88.0  88.5  89.0  89.5  90.0  90.5\n[181]  91.0  91.5  92.0  92.5  93.0  93.5  94.0  94.5  95.0  95.5  96.0  96.5\n[193]  97.0  97.5  98.0  98.5  99.0  99.5 100.0",
            "text/latex": "\\begin{enumerate*}\n\\item 1\n\\item 1.5\n\\item 2\n\\item 2.5\n\\item 3\n\\item 3.5\n\\item 4\n\\item 4.5\n\\item 5\n\\item 5.5\n\\item 6\n\\item 6.5\n\\item 7\n\\item 7.5\n\\item 8\n\\item 8.5\n\\item 9\n\\item 9.5\n\\item 10\n\\item 10.5\n\\item 11\n\\item 11.5\n\\item 12\n\\item 12.5\n\\item 13\n\\item 13.5\n\\item 14\n\\item 14.5\n\\item 15\n\\item 15.5\n\\item 16\n\\item 16.5\n\\item 17\n\\item 17.5\n\\item 18\n\\item 18.5\n\\item 19\n\\item 19.5\n\\item 20\n\\item 20.5\n\\item 21\n\\item 21.5\n\\item 22\n\\item 22.5\n\\item 23\n\\item 23.5\n\\item 24\n\\item 24.5\n\\item 25\n\\item 25.5\n\\item 26\n\\item 26.5\n\\item 27\n\\item 27.5\n\\item 28\n\\item 28.5\n\\item 29\n\\item 29.5\n\\item 30\n\\item 30.5\n\\item 31\n\\item 31.5\n\\item 32\n\\item 32.5\n\\item 33\n\\item 33.5\n\\item 34\n\\item 34.5\n\\item 35\n\\item 35.5\n\\item 36\n\\item 36.5\n\\item 37\n\\item 37.5\n\\item 38\n\\item 38.5\n\\item 39\n\\item 39.5\n\\item 40\n\\item 40.5\n\\item 41\n\\item 41.5\n\\item 42\n\\item 42.5\n\\item 43\n\\item 43.5\n\\item 44\n\\item 44.5\n\\item 45\n\\item 45.5\n\\item 46\n\\item 46.5\n\\item 47\n\\item 47.5\n\\item 48\n\\item 48.5\n\\item 49\n\\item 49.5\n\\item 50\n\\item 50.5\n\\item 51\n\\item 51.5\n\\item 52\n\\item 52.5\n\\item 53\n\\item 53.5\n\\item 54\n\\item 54.5\n\\item 55\n\\item 55.5\n\\item 56\n\\item 56.5\n\\item 57\n\\item 57.5\n\\item 58\n\\item 58.5\n\\item 59\n\\item 59.5\n\\item 60\n\\item 60.5\n\\item 61\n\\item 61.5\n\\item 62\n\\item 62.5\n\\item 63\n\\item 63.5\n\\item 64\n\\item 64.5\n\\item 65\n\\item 65.5\n\\item 66\n\\item 66.5\n\\item 67\n\\item 67.5\n\\item 68\n\\item 68.5\n\\item 69\n\\item 69.5\n\\item 70\n\\item 70.5\n\\item 71\n\\item 71.5\n\\item 72\n\\item 72.5\n\\item 73\n\\item 73.5\n\\item 74\n\\item 74.5\n\\item 75\n\\item 75.5\n\\item 76\n\\item 76.5\n\\item 77\n\\item 77.5\n\\item 78\n\\item 78.5\n\\item 79\n\\item 79.5\n\\item 80\n\\item 80.5\n\\item 81\n\\item 81.5\n\\item 82\n\\item 82.5\n\\item 83\n\\item 83.5\n\\item 84\n\\item 84.5\n\\item 85\n\\item 85.5\n\\item 86\n\\item 86.5\n\\item 87\n\\item 87.5\n\\item 88\n\\item 88.5\n\\item 89\n\\item 89.5\n\\item 90\n\\item 90.5\n\\item 91\n\\item 91.5\n\\item 92\n\\item 92.5\n\\item 93\n\\item 93.5\n\\item 94\n\\item 94.5\n\\item 95\n\\item 95.5\n\\item 96\n\\item 96.5\n\\item 97\n\\item 97.5\n\\item 98\n\\item 98.5\n\\item 99\n\\item 99.5\n\\item 100\n\\end{enumerate*}\n",
            "text/markdown": "1. 1\n2. 1.5\n3. 2\n4. 2.5\n5. 3\n6. 3.5\n7. 4\n8. 4.5\n9. 5\n10. 5.5\n11. 6\n12. 6.5\n13. 7\n14. 7.5\n15. 8\n16. 8.5\n17. 9\n18. 9.5\n19. 10\n20. 10.5\n21. 11\n22. 11.5\n23. 12\n24. 12.5\n25. 13\n26. 13.5\n27. 14\n28. 14.5\n29. 15\n30. 15.5\n31. 16\n32. 16.5\n33. 17\n34. 17.5\n35. 18\n36. 18.5\n37. 19\n38. 19.5\n39. 20\n40. 20.5\n41. 21\n42. 21.5\n43. 22\n44. 22.5\n45. 23\n46. 23.5\n47. 24\n48. 24.5\n49. 25\n50. 25.5\n51. 26\n52. 26.5\n53. 27\n54. 27.5\n55. 28\n56. 28.5\n57. 29\n58. 29.5\n59. 30\n60. 30.5\n61. 31\n62. 31.5\n63. 32\n64. 32.5\n65. 33\n66. 33.5\n67. 34\n68. 34.5\n69. 35\n70. 35.5\n71. 36\n72. 36.5\n73. 37\n74. 37.5\n75. 38\n76. 38.5\n77. 39\n78. 39.5\n79. 40\n80. 40.5\n81. 41\n82. 41.5\n83. 42\n84. 42.5\n85. 43\n86. 43.5\n87. 44\n88. 44.5\n89. 45\n90. 45.5\n91. 46\n92. 46.5\n93. 47\n94. 47.5\n95. 48\n96. 48.5\n97. 49\n98. 49.5\n99. 50\n100. 50.5\n101. 51\n102. 51.5\n103. 52\n104. 52.5\n105. 53\n106. 53.5\n107. 54\n108. 54.5\n109. 55\n110. 55.5\n111. 56\n112. 56.5\n113. 57\n114. 57.5\n115. 58\n116. 58.5\n117. 59\n118. 59.5\n119. 60\n120. 60.5\n121. 61\n122. 61.5\n123. 62\n124. 62.5\n125. 63\n126. 63.5\n127. 64\n128. 64.5\n129. 65\n130. 65.5\n131. 66\n132. 66.5\n133. 67\n134. 67.5\n135. 68\n136. 68.5\n137. 69\n138. 69.5\n139. 70\n140. 70.5\n141. 71\n142. 71.5\n143. 72\n144. 72.5\n145. 73\n146. 73.5\n147. 74\n148. 74.5\n149. 75\n150. 75.5\n151. 76\n152. 76.5\n153. 77\n154. 77.5\n155. 78\n156. 78.5\n157. 79\n158. 79.5\n159. 80\n160. 80.5\n161. 81\n162. 81.5\n163. 82\n164. 82.5\n165. 83\n166. 83.5\n167. 84\n168. 84.5\n169. 85\n170. 85.5\n171. 86\n172. 86.5\n173. 87\n174. 87.5\n175. 88\n176. 88.5\n177. 89\n178. 89.5\n179. 90\n180. 90.5\n181. 91\n182. 91.5\n183. 92\n184. 92.5\n185. 93\n186. 93.5\n187. 94\n188. 94.5\n189. 95\n190. 95.5\n191. 96\n192. 96.5\n193. 97\n194. 97.5\n195. 98\n196. 98.5\n197. 99\n198. 99.5\n199. 100\n\n\n",
            "text/html": "<ol class=list-inline>\n\t<li>1</li>\n\t<li>1.5</li>\n\t<li>2</li>\n\t<li>2.5</li>\n\t<li>3</li>\n\t<li>3.5</li>\n\t<li>4</li>\n\t<li>4.5</li>\n\t<li>5</li>\n\t<li>5.5</li>\n\t<li>6</li>\n\t<li>6.5</li>\n\t<li>7</li>\n\t<li>7.5</li>\n\t<li>8</li>\n\t<li>8.5</li>\n\t<li>9</li>\n\t<li>9.5</li>\n\t<li>10</li>\n\t<li>10.5</li>\n\t<li>11</li>\n\t<li>11.5</li>\n\t<li>12</li>\n\t<li>12.5</li>\n\t<li>13</li>\n\t<li>13.5</li>\n\t<li>14</li>\n\t<li>14.5</li>\n\t<li>15</li>\n\t<li>15.5</li>\n\t<li>16</li>\n\t<li>16.5</li>\n\t<li>17</li>\n\t<li>17.5</li>\n\t<li>18</li>\n\t<li>18.5</li>\n\t<li>19</li>\n\t<li>19.5</li>\n\t<li>20</li>\n\t<li>20.5</li>\n\t<li>21</li>\n\t<li>21.5</li>\n\t<li>22</li>\n\t<li>22.5</li>\n\t<li>23</li>\n\t<li>23.5</li>\n\t<li>24</li>\n\t<li>24.5</li>\n\t<li>25</li>\n\t<li>25.5</li>\n\t<li>26</li>\n\t<li>26.5</li>\n\t<li>27</li>\n\t<li>27.5</li>\n\t<li>28</li>\n\t<li>28.5</li>\n\t<li>29</li>\n\t<li>29.5</li>\n\t<li>30</li>\n\t<li>30.5</li>\n\t<li>31</li>\n\t<li>31.5</li>\n\t<li>32</li>\n\t<li>32.5</li>\n\t<li>33</li>\n\t<li>33.5</li>\n\t<li>34</li>\n\t<li>34.5</li>\n\t<li>35</li>\n\t<li>35.5</li>\n\t<li>36</li>\n\t<li>36.5</li>\n\t<li>37</li>\n\t<li>37.5</li>\n\t<li>38</li>\n\t<li>38.5</li>\n\t<li>39</li>\n\t<li>39.5</li>\n\t<li>40</li>\n\t<li>40.5</li>\n\t<li>41</li>\n\t<li>41.5</li>\n\t<li>42</li>\n\t<li>42.5</li>\n\t<li>43</li>\n\t<li>43.5</li>\n\t<li>44</li>\n\t<li>44.5</li>\n\t<li>45</li>\n\t<li>45.5</li>\n\t<li>46</li>\n\t<li>46.5</li>\n\t<li>47</li>\n\t<li>47.5</li>\n\t<li>48</li>\n\t<li>48.5</li>\n\t<li>49</li>\n\t<li>49.5</li>\n\t<li>50</li>\n\t<li>50.5</li>\n\t<li>51</li>\n\t<li>51.5</li>\n\t<li>52</li>\n\t<li>52.5</li>\n\t<li>53</li>\n\t<li>53.5</li>\n\t<li>54</li>\n\t<li>54.5</li>\n\t<li>55</li>\n\t<li>55.5</li>\n\t<li>56</li>\n\t<li>56.5</li>\n\t<li>57</li>\n\t<li>57.5</li>\n\t<li>58</li>\n\t<li>58.5</li>\n\t<li>59</li>\n\t<li>59.5</li>\n\t<li>60</li>\n\t<li>60.5</li>\n\t<li>61</li>\n\t<li>61.5</li>\n\t<li>62</li>\n\t<li>62.5</li>\n\t<li>63</li>\n\t<li>63.5</li>\n\t<li>64</li>\n\t<li>64.5</li>\n\t<li>65</li>\n\t<li>65.5</li>\n\t<li>66</li>\n\t<li>66.5</li>\n\t<li>67</li>\n\t<li>67.5</li>\n\t<li>68</li>\n\t<li>68.5</li>\n\t<li>69</li>\n\t<li>69.5</li>\n\t<li>70</li>\n\t<li>70.5</li>\n\t<li>71</li>\n\t<li>71.5</li>\n\t<li>72</li>\n\t<li>72.5</li>\n\t<li>73</li>\n\t<li>73.5</li>\n\t<li>74</li>\n\t<li>74.5</li>\n\t<li>75</li>\n\t<li>75.5</li>\n\t<li>76</li>\n\t<li>76.5</li>\n\t<li>77</li>\n\t<li>77.5</li>\n\t<li>78</li>\n\t<li>78.5</li>\n\t<li>79</li>\n\t<li>79.5</li>\n\t<li>80</li>\n\t<li>80.5</li>\n\t<li>81</li>\n\t<li>81.5</li>\n\t<li>82</li>\n\t<li>82.5</li>\n\t<li>83</li>\n\t<li>83.5</li>\n\t<li>84</li>\n\t<li>84.5</li>\n\t<li>85</li>\n\t<li>85.5</li>\n\t<li>86</li>\n\t<li>86.5</li>\n\t<li>87</li>\n\t<li>87.5</li>\n\t<li>88</li>\n\t<li>88.5</li>\n\t<li>89</li>\n\t<li>89.5</li>\n\t<li>90</li>\n\t<li>90.5</li>\n\t<li>91</li>\n\t<li>91.5</li>\n\t<li>92</li>\n\t<li>92.5</li>\n\t<li>93</li>\n\t<li>93.5</li>\n\t<li>94</li>\n\t<li>94.5</li>\n\t<li>95</li>\n\t<li>95.5</li>\n\t<li>96</li>\n\t<li>96.5</li>\n\t<li>97</li>\n\t<li>97.5</li>\n\t<li>98</li>\n\t<li>98.5</li>\n\t<li>99</li>\n\t<li>99.5</li>\n\t<li>100</li>\n</ol>\n"
          },
          "metadata": {}
        },
        {
          "output_type": "stream",
          "text": "[1] \"w=\"\n",
          "name": "stdout"
        },
        {
          "output_type": "display_data",
          "data": {
            "text/plain": " [1] 1 2 3 1 2 3 1 2 3 1 2 3 1 2 3 1 2 3 1 2 3 1 2 3 1 2 3 1 2 3",
            "text/latex": "\\begin{enumerate*}\n\\item 1\n\\item 2\n\\item 3\n\\item 1\n\\item 2\n\\item 3\n\\item 1\n\\item 2\n\\item 3\n\\item 1\n\\item 2\n\\item 3\n\\item 1\n\\item 2\n\\item 3\n\\item 1\n\\item 2\n\\item 3\n\\item 1\n\\item 2\n\\item 3\n\\item 1\n\\item 2\n\\item 3\n\\item 1\n\\item 2\n\\item 3\n\\item 1\n\\item 2\n\\item 3\n\\end{enumerate*}\n",
            "text/markdown": "1. 1\n2. 2\n3. 3\n4. 1\n5. 2\n6. 3\n7. 1\n8. 2\n9. 3\n10. 1\n11. 2\n12. 3\n13. 1\n14. 2\n15. 3\n16. 1\n17. 2\n18. 3\n19. 1\n20. 2\n21. 3\n22. 1\n23. 2\n24. 3\n25. 1\n26. 2\n27. 3\n28. 1\n29. 2\n30. 3\n\n\n",
            "text/html": "<ol class=list-inline>\n\t<li>1</li>\n\t<li>2</li>\n\t<li>3</li>\n\t<li>1</li>\n\t<li>2</li>\n\t<li>3</li>\n\t<li>1</li>\n\t<li>2</li>\n\t<li>3</li>\n\t<li>1</li>\n\t<li>2</li>\n\t<li>3</li>\n\t<li>1</li>\n\t<li>2</li>\n\t<li>3</li>\n\t<li>1</li>\n\t<li>2</li>\n\t<li>3</li>\n\t<li>1</li>\n\t<li>2</li>\n\t<li>3</li>\n\t<li>1</li>\n\t<li>2</li>\n\t<li>3</li>\n\t<li>1</li>\n\t<li>2</li>\n\t<li>3</li>\n\t<li>1</li>\n\t<li>2</li>\n\t<li>3</li>\n</ol>\n"
          },
          "metadata": {}
        },
        {
          "output_type": "stream",
          "text": "[1] \"length(w)=\"\n",
          "name": "stdout"
        },
        {
          "output_type": "display_data",
          "data": {
            "text/plain": "[1] 30",
            "text/latex": "30",
            "text/markdown": "30",
            "text/html": "30"
          },
          "metadata": {}
        }
      ]
    },
    {
      "metadata": {
        "trusted": true
      },
      "cell_type": "code",
      "source": "z <-seq(from=1, to=10, by=0.2)\nprint('z=')\nz",
      "execution_count": 32,
      "outputs": [
        {
          "output_type": "stream",
          "text": "[1] \"z=\"\n",
          "name": "stdout"
        },
        {
          "output_type": "display_data",
          "data": {
            "text/plain": " [1]  1.0  1.2  1.4  1.6  1.8  2.0  2.2  2.4  2.6  2.8  3.0  3.2  3.4  3.6  3.8\n[16]  4.0  4.2  4.4  4.6  4.8  5.0  5.2  5.4  5.6  5.8  6.0  6.2  6.4  6.6  6.8\n[31]  7.0  7.2  7.4  7.6  7.8  8.0  8.2  8.4  8.6  8.8  9.0  9.2  9.4  9.6  9.8\n[46] 10.0",
            "text/latex": "\\begin{enumerate*}\n\\item 1\n\\item 1.2\n\\item 1.4\n\\item 1.6\n\\item 1.8\n\\item 2\n\\item 2.2\n\\item 2.4\n\\item 2.6\n\\item 2.8\n\\item 3\n\\item 3.2\n\\item 3.4\n\\item 3.6\n\\item 3.8\n\\item 4\n\\item 4.2\n\\item 4.4\n\\item 4.6\n\\item 4.8\n\\item 5\n\\item 5.2\n\\item 5.4\n\\item 5.6\n\\item 5.8\n\\item 6\n\\item 6.2\n\\item 6.4\n\\item 6.6\n\\item 6.8\n\\item 7\n\\item 7.2\n\\item 7.4\n\\item 7.6\n\\item 7.8\n\\item 8\n\\item 8.2\n\\item 8.4\n\\item 8.6\n\\item 8.8\n\\item 9\n\\item 9.2\n\\item 9.4\n\\item 9.6\n\\item 9.8\n\\item 10\n\\end{enumerate*}\n",
            "text/markdown": "1. 1\n2. 1.2\n3. 1.4\n4. 1.6\n5. 1.8\n6. 2\n7. 2.2\n8. 2.4\n9. 2.6\n10. 2.8\n11. 3\n12. 3.2\n13. 3.4\n14. 3.6\n15. 3.8\n16. 4\n17. 4.2\n18. 4.4\n19. 4.6\n20. 4.8\n21. 5\n22. 5.2\n23. 5.4\n24. 5.6\n25. 5.8\n26. 6\n27. 6.2\n28. 6.4\n29. 6.6\n30. 6.8\n31. 7\n32. 7.2\n33. 7.4\n34. 7.6\n35. 7.8\n36. 8\n37. 8.2\n38. 8.4\n39. 8.6\n40. 8.8\n41. 9\n42. 9.2\n43. 9.4\n44. 9.6\n45. 9.8\n46. 10\n\n\n",
            "text/html": "<ol class=list-inline>\n\t<li>1</li>\n\t<li>1.2</li>\n\t<li>1.4</li>\n\t<li>1.6</li>\n\t<li>1.8</li>\n\t<li>2</li>\n\t<li>2.2</li>\n\t<li>2.4</li>\n\t<li>2.6</li>\n\t<li>2.8</li>\n\t<li>3</li>\n\t<li>3.2</li>\n\t<li>3.4</li>\n\t<li>3.6</li>\n\t<li>3.8</li>\n\t<li>4</li>\n\t<li>4.2</li>\n\t<li>4.4</li>\n\t<li>4.6</li>\n\t<li>4.8</li>\n\t<li>5</li>\n\t<li>5.2</li>\n\t<li>5.4</li>\n\t<li>5.6</li>\n\t<li>5.8</li>\n\t<li>6</li>\n\t<li>6.2</li>\n\t<li>6.4</li>\n\t<li>6.6</li>\n\t<li>6.8</li>\n\t<li>7</li>\n\t<li>7.2</li>\n\t<li>7.4</li>\n\t<li>7.6</li>\n\t<li>7.8</li>\n\t<li>8</li>\n\t<li>8.2</li>\n\t<li>8.4</li>\n\t<li>8.6</li>\n\t<li>8.8</li>\n\t<li>9</li>\n\t<li>9.2</li>\n\t<li>9.4</li>\n\t<li>9.6</li>\n\t<li>9.8</li>\n\t<li>10</li>\n</ol>\n"
          },
          "metadata": {}
        }
      ]
    },
    {
      "metadata": {
        "trusted": true
      },
      "cell_type": "code",
      "source": "sprintf(\"Current working dir: %s\", getwd())",
      "execution_count": 28,
      "outputs": [
        {
          "output_type": "display_data",
          "data": {
            "text/plain": "[1] \"Current working dir: /home/nbuser/library\"",
            "text/latex": "'Current working dir: /home/nbuser/library'",
            "text/markdown": "'Current working dir: /home/nbuser/library'",
            "text/html": "'Current working dir: /home/nbuser/library'"
          },
          "metadata": {}
        }
      ]
    },
    {
      "metadata": {},
      "cell_type": "markdown",
      "source": "## Index Operators and Vector Operations"
    },
    {
      "metadata": {
        "trusted": true
      },
      "cell_type": "code",
      "source": "#############################\n# Index operator: [...]     #\n#############################\nw[1:4]\nw[seq(from=2, to=17, by=3)]\n\n\n\n########################\n# Vector operations    #\n########################\nx<-c(1,2,3)\ny<-c(2,4,6)\n\nx + y\n10*x\nx*y\n\nx < 3\n\n",
      "execution_count": 24,
      "outputs": [
        {
          "output_type": "display_data",
          "data": {
            "text/plain": "[1] 1 2 3 1",
            "text/latex": "\\begin{enumerate*}\n\\item 1\n\\item 2\n\\item 3\n\\item 1\n\\end{enumerate*}\n",
            "text/markdown": "1. 1\n2. 2\n3. 3\n4. 1\n\n\n",
            "text/html": "<ol class=list-inline>\n\t<li>1</li>\n\t<li>2</li>\n\t<li>3</li>\n\t<li>1</li>\n</ol>\n"
          },
          "metadata": {}
        },
        {
          "output_type": "display_data",
          "data": {
            "text/plain": "[1] 2 2 2 2 2 2",
            "text/latex": "\\begin{enumerate*}\n\\item 2\n\\item 2\n\\item 2\n\\item 2\n\\item 2\n\\item 2\n\\end{enumerate*}\n",
            "text/markdown": "1. 2\n2. 2\n3. 2\n4. 2\n5. 2\n6. 2\n\n\n",
            "text/html": "<ol class=list-inline>\n\t<li>2</li>\n\t<li>2</li>\n\t<li>2</li>\n\t<li>2</li>\n\t<li>2</li>\n\t<li>2</li>\n</ol>\n"
          },
          "metadata": {}
        },
        {
          "output_type": "display_data",
          "data": {
            "text/plain": "[1] 3 6 9",
            "text/latex": "\\begin{enumerate*}\n\\item 3\n\\item 6\n\\item 9\n\\end{enumerate*}\n",
            "text/markdown": "1. 3\n2. 6\n3. 9\n\n\n",
            "text/html": "<ol class=list-inline>\n\t<li>3</li>\n\t<li>6</li>\n\t<li>9</li>\n</ol>\n"
          },
          "metadata": {}
        },
        {
          "output_type": "display_data",
          "data": {
            "text/plain": "[1] 10 20 30",
            "text/latex": "\\begin{enumerate*}\n\\item 10\n\\item 20\n\\item 30\n\\end{enumerate*}\n",
            "text/markdown": "1. 10\n2. 20\n3. 30\n\n\n",
            "text/html": "<ol class=list-inline>\n\t<li>10</li>\n\t<li>20</li>\n\t<li>30</li>\n</ol>\n"
          },
          "metadata": {}
        },
        {
          "output_type": "display_data",
          "data": {
            "text/plain": "[1]  2  8 18",
            "text/latex": "\\begin{enumerate*}\n\\item 2\n\\item 8\n\\item 18\n\\end{enumerate*}\n",
            "text/markdown": "1. 2\n2. 8\n3. 18\n\n\n",
            "text/html": "<ol class=list-inline>\n\t<li>2</li>\n\t<li>8</li>\n\t<li>18</li>\n</ol>\n"
          },
          "metadata": {}
        },
        {
          "output_type": "display_data",
          "data": {
            "text/plain": "[1]  TRUE  TRUE FALSE",
            "text/latex": "\\begin{enumerate*}\n\\item TRUE\n\\item TRUE\n\\item FALSE\n\\end{enumerate*}\n",
            "text/markdown": "1. TRUE\n2. TRUE\n3. FALSE\n\n\n",
            "text/html": "<ol class=list-inline>\n\t<li>TRUE</li>\n\t<li>TRUE</li>\n\t<li>FALSE</li>\n</ol>\n"
          },
          "metadata": {}
        }
      ]
    },
    {
      "metadata": {
        "trusted": true
      },
      "cell_type": "code",
      "source": "x=c(1,2,4)\nx",
      "execution_count": 34,
      "outputs": [
        {
          "output_type": "display_data",
          "data": {
            "text/plain": "[1] 1 2 4",
            "text/latex": "\\begin{enumerate*}\n\\item 1\n\\item 2\n\\item 4\n\\end{enumerate*}\n",
            "text/markdown": "1. 1\n2. 2\n3. 4\n\n\n",
            "text/html": "<ol class=list-inline>\n\t<li>1</li>\n\t<li>2</li>\n\t<li>4</li>\n</ol>\n"
          },
          "metadata": {}
        }
      ]
    },
    {
      "metadata": {
        "trusted": true
      },
      "cell_type": "code",
      "source": "y=c(1,1,1)\ny",
      "execution_count": 36,
      "outputs": [
        {
          "output_type": "display_data",
          "data": {
            "text/plain": "[1] 1 1 1",
            "text/latex": "\\begin{enumerate*}\n\\item 1\n\\item 1\n\\item 1\n\\end{enumerate*}\n",
            "text/markdown": "1. 1\n2. 1\n3. 1\n\n\n",
            "text/html": "<ol class=list-inline>\n\t<li>1</li>\n\t<li>1</li>\n\t<li>1</li>\n</ol>\n"
          },
          "metadata": {}
        }
      ]
    },
    {
      "metadata": {
        "trusted": true
      },
      "cell_type": "code",
      "source": "x+y",
      "execution_count": 37,
      "outputs": [
        {
          "output_type": "display_data",
          "data": {
            "text/plain": "[1] 2 3 5",
            "text/latex": "\\begin{enumerate*}\n\\item 2\n\\item 3\n\\item 5\n\\end{enumerate*}\n",
            "text/markdown": "1. 2\n2. 3\n3. 5\n\n\n",
            "text/html": "<ol class=list-inline>\n\t<li>2</li>\n\t<li>3</li>\n\t<li>5</li>\n</ol>\n"
          },
          "metadata": {}
        }
      ]
    },
    {
      "metadata": {},
      "cell_type": "markdown",
      "source": "### Programming constructs "
    },
    {
      "metadata": {
        "trusted": true
      },
      "cell_type": "code",
      "source": "\n# Branching with \"if / else\"\nif(x[2] < -4) {\n r <- 1\n} else\n{\n r <- 0\n} \nr\n\n#for loops\nfor (i in c(1:3)){\nprint(x[i])\n}\n\nfor (i in c(1:5)){\nprint(words[i])\n}\n",
      "execution_count": 25,
      "outputs": [
        {
          "output_type": "display_data",
          "data": {
            "text/plain": "[1] 0",
            "text/latex": "0",
            "text/markdown": "0",
            "text/html": "0"
          },
          "metadata": {}
        },
        {
          "output_type": "stream",
          "text": "[1] 1\n[1] 2\n[1] 3\n[1] \"eins\"\n[1] \"zwei\"\n[1] \"drei\"\n[1] \"vier\"\n[1] \"fuenf\"\n",
          "name": "stdout"
        }
      ]
    },
    {
      "metadata": {
        "trusted": true
      },
      "cell_type": "code",
      "source": "x=c(1,5,6)\nx[2]",
      "execution_count": 39,
      "outputs": [
        {
          "output_type": "display_data",
          "data": {
            "text/plain": "[1] 5",
            "text/latex": "5",
            "text/markdown": "5",
            "text/html": "5"
          },
          "metadata": {}
        }
      ]
    },
    {
      "metadata": {
        "trusted": true
      },
      "cell_type": "code",
      "source": "# Branching with \"if / else\"\nif(x[2] < -4) {\n r <- 1\n} else\n{\n r <- 0\n} \nr",
      "execution_count": 40,
      "outputs": [
        {
          "output_type": "display_data",
          "data": {
            "text/plain": "[1] 0",
            "text/latex": "0",
            "text/markdown": "0",
            "text/html": "0"
          },
          "metadata": {}
        }
      ]
    },
    {
      "metadata": {
        "trusted": true
      },
      "cell_type": "code",
      "source": "#for loops\nfor (i in c(1:3)){\nprint(x[i])\n}\n",
      "execution_count": 41,
      "outputs": [
        {
          "output_type": "stream",
          "text": "[1] 1\n[1] 5\n[1] 6\n",
          "name": "stdout"
        }
      ]
    },
    {
      "metadata": {},
      "cell_type": "markdown",
      "source": "## Generic mathematical Functions"
    },
    {
      "metadata": {
        "trusted": true
      },
      "cell_type": "code",
      "source": "exp(5)\nlog(3)\nlog(exp(10))\n\na<-8\nsqrt(a)\n",
      "execution_count": null,
      "outputs": []
    },
    {
      "metadata": {},
      "cell_type": "markdown",
      "source": "## Generate random numbers  \n"
    },
    {
      "metadata": {
        "trusted": true
      },
      "cell_type": "code",
      "source": "####################################  \n# Pseudo-random sampling: sample() #\n####################################\nsample(x, 20, replace=FALSE)      #without replacement\nsort(sample(x, 20, replace=TRUE)) #with replacement\nx_part <- x[1:10]\n\n# Use your own sampling probabilities:\nprob_x <- c(0.004, 0.9, 0.3, 0.001, 0.6, 0.005, 0.12, 0.1, 0.0006, 1)\nx_part\nsample(x_part, replace=TRUE, prob=prob_x)\n\n# 100 Bernoulli trials\nsample(c(0,1), 100, replace = TRUE)\n\n\n",
      "execution_count": 30,
      "outputs": [
        {
          "output_type": "display_data",
          "data": {
            "text/plain": " [1]  1.81769804  0.11137547 -1.49224337  1.16330771 -0.37156871  1.19063391\n [7] -0.15282843  0.83608333  1.78026899  2.00013620  2.48656687  0.38473890\n[13] -1.15835795  0.91684017 -2.05884386  0.59532870  1.74892341  0.48593978\n[19]  0.56912223  0.02817881",
            "text/latex": "\\begin{enumerate*}\n\\item 1.8176980365099\n\\item 0.111375473454806\n\\item -1.49224336527014\n\\item 1.16330770816758\n\\item -0.371568708628949\n\\item 1.19063390799778\n\\item -0.152828432134611\n\\item 0.836083334015872\n\\item 1.78026899067801\n\\item 2.00013620196343\n\\item 2.48656687448193\n\\item 0.384738895450427\n\\item -1.15835795348671\n\\item 0.916840165181134\n\\item -2.05884385803081\n\\item 0.595328696014155\n\\item 1.7489234072276\n\\item 0.485939781120474\n\\item 0.569122232748298\n\\item 0.0281788052171186\n\\end{enumerate*}\n",
            "text/markdown": "1. 1.8176980365099\n2. 0.111375473454806\n3. -1.49224336527014\n4. 1.16330770816758\n5. -0.371568708628949\n6. 1.19063390799778\n7. -0.152828432134611\n8. 0.836083334015872\n9. 1.78026899067801\n10. 2.00013620196343\n11. 2.48656687448193\n12. 0.384738895450427\n13. -1.15835795348671\n14. 0.916840165181134\n15. -2.05884385803081\n16. 0.595328696014155\n17. 1.7489234072276\n18. 0.485939781120474\n19. 0.569122232748298\n20. 0.0281788052171186\n\n\n",
            "text/html": "<ol class=list-inline>\n\t<li>1.8176980365099</li>\n\t<li>0.111375473454806</li>\n\t<li>-1.49224336527014</li>\n\t<li>1.16330770816758</li>\n\t<li>-0.371568708628949</li>\n\t<li>1.19063390799778</li>\n\t<li>-0.152828432134611</li>\n\t<li>0.836083334015872</li>\n\t<li>1.78026899067801</li>\n\t<li>2.00013620196343</li>\n\t<li>2.48656687448193</li>\n\t<li>0.384738895450427</li>\n\t<li>-1.15835795348671</li>\n\t<li>0.916840165181134</li>\n\t<li>-2.05884385803081</li>\n\t<li>0.595328696014155</li>\n\t<li>1.7489234072276</li>\n\t<li>0.485939781120474</li>\n\t<li>0.569122232748298</li>\n\t<li>0.0281788052171186</li>\n</ol>\n"
          },
          "metadata": {}
        },
        {
          "output_type": "display_data",
          "data": {
            "text/plain": " [1] -2.1967083 -2.0588439 -1.9978058 -1.5627437 -1.4540716 -1.0229945\n [7] -0.7701250 -0.5457350 -0.5051582 -0.4902495 -0.4235603 -0.4199242\n[13] -0.2140177  0.6723688  0.9168402  1.1184961  1.1184961  1.7802690\n[19]  2.0001362  2.0001362",
            "text/latex": "\\begin{enumerate*}\n\\item -2.19670832526215\n\\item -2.05884385803081\n\\item -1.99780580453386\n\\item -1.56274374994147\n\\item -1.4540716304649\n\\item -1.02299451260453\n\\item -0.770125042715606\n\\item -0.545734987966757\n\\item -0.505158240103057\n\\item -0.490249548105793\n\\item -0.423560318664118\n\\item -0.419924195272412\n\\item -0.21401769134012\n\\item 0.672368811197603\n\\item 0.916840165181134\n\\item 1.11849606716479\n\\item 1.11849606716479\n\\item 1.78026899067801\n\\item 2.00013620196343\n\\item 2.00013620196343\n\\end{enumerate*}\n",
            "text/markdown": "1. -2.19670832526215\n2. -2.05884385803081\n3. -1.99780580453386\n4. -1.56274374994147\n5. -1.4540716304649\n6. -1.02299451260453\n7. -0.770125042715606\n8. -0.545734987966757\n9. -0.505158240103057\n10. -0.490249548105793\n11. -0.423560318664118\n12. -0.419924195272412\n13. -0.21401769134012\n14. 0.672368811197603\n15. 0.916840165181134\n16. 1.11849606716479\n17. 1.11849606716479\n18. 1.78026899067801\n19. 2.00013620196343\n20. 2.00013620196343\n\n\n",
            "text/html": "<ol class=list-inline>\n\t<li>-2.19670832526215</li>\n\t<li>-2.05884385803081</li>\n\t<li>-1.99780580453386</li>\n\t<li>-1.56274374994147</li>\n\t<li>-1.4540716304649</li>\n\t<li>-1.02299451260453</li>\n\t<li>-0.770125042715606</li>\n\t<li>-0.545734987966757</li>\n\t<li>-0.505158240103057</li>\n\t<li>-0.490249548105793</li>\n\t<li>-0.423560318664118</li>\n\t<li>-0.419924195272412</li>\n\t<li>-0.21401769134012</li>\n\t<li>0.672368811197603</li>\n\t<li>0.916840165181134</li>\n\t<li>1.11849606716479</li>\n\t<li>1.11849606716479</li>\n\t<li>1.78026899067801</li>\n\t<li>2.00013620196343</li>\n\t<li>2.00013620196343</li>\n</ol>\n"
          },
          "metadata": {}
        },
        {
          "output_type": "display_data",
          "data": {
            "text/plain": " [1]  2.0001362  0.6145009 -0.8796301  0.3847389 -0.3715687  3.0802585\n [7]  2.4865669 -1.7480138  1.1926995 -1.0414728",
            "text/latex": "\\begin{enumerate*}\n\\item 2.00013620196343\n\\item 0.614500892967206\n\\item -0.879630141562836\n\\item 0.384738895450427\n\\item -0.371568708628949\n\\item 3.08025852296193\n\\item 2.48656687448193\n\\item -1.74801384747814\n\\item 1.19269945357771\n\\item -1.04147284096859\n\\end{enumerate*}\n",
            "text/markdown": "1. 2.00013620196343\n2. 0.614500892967206\n3. -0.879630141562836\n4. 0.384738895450427\n5. -0.371568708628949\n6. 3.08025852296193\n7. 2.48656687448193\n8. -1.74801384747814\n9. 1.19269945357771\n10. -1.04147284096859\n\n\n",
            "text/html": "<ol class=list-inline>\n\t<li>2.00013620196343</li>\n\t<li>0.614500892967206</li>\n\t<li>-0.879630141562836</li>\n\t<li>0.384738895450427</li>\n\t<li>-0.371568708628949</li>\n\t<li>3.08025852296193</li>\n\t<li>2.48656687448193</li>\n\t<li>-1.74801384747814</li>\n\t<li>1.19269945357771</li>\n\t<li>-1.04147284096859</li>\n</ol>\n"
          },
          "metadata": {}
        },
        {
          "output_type": "display_data",
          "data": {
            "text/plain": " [1]  0.6145009  0.6145009 -1.0414728 -0.3715687  0.6145009 -0.3715687\n [7]  0.6145009 -0.8796301 -0.8796301 -1.0414728",
            "text/latex": "\\begin{enumerate*}\n\\item 0.614500892967206\n\\item 0.614500892967206\n\\item -1.04147284096859\n\\item -0.371568708628949\n\\item 0.614500892967206\n\\item -0.371568708628949\n\\item 0.614500892967206\n\\item -0.879630141562836\n\\item -0.879630141562836\n\\item -1.04147284096859\n\\end{enumerate*}\n",
            "text/markdown": "1. 0.614500892967206\n2. 0.614500892967206\n3. -1.04147284096859\n4. -0.371568708628949\n5. 0.614500892967206\n6. -0.371568708628949\n7. 0.614500892967206\n8. -0.879630141562836\n9. -0.879630141562836\n10. -1.04147284096859\n\n\n",
            "text/html": "<ol class=list-inline>\n\t<li>0.614500892967206</li>\n\t<li>0.614500892967206</li>\n\t<li>-1.04147284096859</li>\n\t<li>-0.371568708628949</li>\n\t<li>0.614500892967206</li>\n\t<li>-0.371568708628949</li>\n\t<li>0.614500892967206</li>\n\t<li>-0.879630141562836</li>\n\t<li>-0.879630141562836</li>\n\t<li>-1.04147284096859</li>\n</ol>\n"
          },
          "metadata": {}
        },
        {
          "output_type": "display_data",
          "data": {
            "text/plain": "  [1] 0 0 0 0 1 0 0 1 0 1 1 1 0 1 1 0 0 0 0 0 1 0 1 1 0 1 1 1 0 1 1 0 1 0 0 0 1\n [38] 1 0 1 1 1 1 1 0 0 1 0 0 0 1 0 1 0 1 1 1 1 1 0 1 0 0 1 0 1 1 0 1 1 0 1 1 1\n [75] 0 0 1 0 1 1 1 0 0 0 1 0 0 1 0 0 1 0 1 1 0 0 0 1 1 1",
            "text/latex": "\\begin{enumerate*}\n\\item 0\n\\item 0\n\\item 0\n\\item 0\n\\item 1\n\\item 0\n\\item 0\n\\item 1\n\\item 0\n\\item 1\n\\item 1\n\\item 1\n\\item 0\n\\item 1\n\\item 1\n\\item 0\n\\item 0\n\\item 0\n\\item 0\n\\item 0\n\\item 1\n\\item 0\n\\item 1\n\\item 1\n\\item 0\n\\item 1\n\\item 1\n\\item 1\n\\item 0\n\\item 1\n\\item 1\n\\item 0\n\\item 1\n\\item 0\n\\item 0\n\\item 0\n\\item 1\n\\item 1\n\\item 0\n\\item 1\n\\item 1\n\\item 1\n\\item 1\n\\item 1\n\\item 0\n\\item 0\n\\item 1\n\\item 0\n\\item 0\n\\item 0\n\\item 1\n\\item 0\n\\item 1\n\\item 0\n\\item 1\n\\item 1\n\\item 1\n\\item 1\n\\item 1\n\\item 0\n\\item 1\n\\item 0\n\\item 0\n\\item 1\n\\item 0\n\\item 1\n\\item 1\n\\item 0\n\\item 1\n\\item 1\n\\item 0\n\\item 1\n\\item 1\n\\item 1\n\\item 0\n\\item 0\n\\item 1\n\\item 0\n\\item 1\n\\item 1\n\\item 1\n\\item 0\n\\item 0\n\\item 0\n\\item 1\n\\item 0\n\\item 0\n\\item 1\n\\item 0\n\\item 0\n\\item 1\n\\item 0\n\\item 1\n\\item 1\n\\item 0\n\\item 0\n\\item 0\n\\item 1\n\\item 1\n\\item 1\n\\end{enumerate*}\n",
            "text/markdown": "1. 0\n2. 0\n3. 0\n4. 0\n5. 1\n6. 0\n7. 0\n8. 1\n9. 0\n10. 1\n11. 1\n12. 1\n13. 0\n14. 1\n15. 1\n16. 0\n17. 0\n18. 0\n19. 0\n20. 0\n21. 1\n22. 0\n23. 1\n24. 1\n25. 0\n26. 1\n27. 1\n28. 1\n29. 0\n30. 1\n31. 1\n32. 0\n33. 1\n34. 0\n35. 0\n36. 0\n37. 1\n38. 1\n39. 0\n40. 1\n41. 1\n42. 1\n43. 1\n44. 1\n45. 0\n46. 0\n47. 1\n48. 0\n49. 0\n50. 0\n51. 1\n52. 0\n53. 1\n54. 0\n55. 1\n56. 1\n57. 1\n58. 1\n59. 1\n60. 0\n61. 1\n62. 0\n63. 0\n64. 1\n65. 0\n66. 1\n67. 1\n68. 0\n69. 1\n70. 1\n71. 0\n72. 1\n73. 1\n74. 1\n75. 0\n76. 0\n77. 1\n78. 0\n79. 1\n80. 1\n81. 1\n82. 0\n83. 0\n84. 0\n85. 1\n86. 0\n87. 0\n88. 1\n89. 0\n90. 0\n91. 1\n92. 0\n93. 1\n94. 1\n95. 0\n96. 0\n97. 0\n98. 1\n99. 1\n100. 1\n\n\n",
            "text/html": "<ol class=list-inline>\n\t<li>0</li>\n\t<li>0</li>\n\t<li>0</li>\n\t<li>0</li>\n\t<li>1</li>\n\t<li>0</li>\n\t<li>0</li>\n\t<li>1</li>\n\t<li>0</li>\n\t<li>1</li>\n\t<li>1</li>\n\t<li>1</li>\n\t<li>0</li>\n\t<li>1</li>\n\t<li>1</li>\n\t<li>0</li>\n\t<li>0</li>\n\t<li>0</li>\n\t<li>0</li>\n\t<li>0</li>\n\t<li>1</li>\n\t<li>0</li>\n\t<li>1</li>\n\t<li>1</li>\n\t<li>0</li>\n\t<li>1</li>\n\t<li>1</li>\n\t<li>1</li>\n\t<li>0</li>\n\t<li>1</li>\n\t<li>1</li>\n\t<li>0</li>\n\t<li>1</li>\n\t<li>0</li>\n\t<li>0</li>\n\t<li>0</li>\n\t<li>1</li>\n\t<li>1</li>\n\t<li>0</li>\n\t<li>1</li>\n\t<li>1</li>\n\t<li>1</li>\n\t<li>1</li>\n\t<li>1</li>\n\t<li>0</li>\n\t<li>0</li>\n\t<li>1</li>\n\t<li>0</li>\n\t<li>0</li>\n\t<li>0</li>\n\t<li>1</li>\n\t<li>0</li>\n\t<li>1</li>\n\t<li>0</li>\n\t<li>1</li>\n\t<li>1</li>\n\t<li>1</li>\n\t<li>1</li>\n\t<li>1</li>\n\t<li>0</li>\n\t<li>1</li>\n\t<li>0</li>\n\t<li>0</li>\n\t<li>1</li>\n\t<li>0</li>\n\t<li>1</li>\n\t<li>1</li>\n\t<li>0</li>\n\t<li>1</li>\n\t<li>1</li>\n\t<li>0</li>\n\t<li>1</li>\n\t<li>1</li>\n\t<li>1</li>\n\t<li>0</li>\n\t<li>0</li>\n\t<li>1</li>\n\t<li>0</li>\n\t<li>1</li>\n\t<li>1</li>\n\t<li>1</li>\n\t<li>0</li>\n\t<li>0</li>\n\t<li>0</li>\n\t<li>1</li>\n\t<li>0</li>\n\t<li>0</li>\n\t<li>1</li>\n\t<li>0</li>\n\t<li>0</li>\n\t<li>1</li>\n\t<li>0</li>\n\t<li>1</li>\n\t<li>1</li>\n\t<li>0</li>\n\t<li>0</li>\n\t<li>0</li>\n\t<li>1</li>\n\t<li>1</li>\n\t<li>1</li>\n</ol>\n"
          },
          "metadata": {}
        }
      ]
    },
    {
      "metadata": {
        "trusted": true
      },
      "cell_type": "code",
      "source": "sample(c(0,1), 100, replace = TRUE)\n",
      "execution_count": 42,
      "outputs": [
        {
          "output_type": "display_data",
          "data": {
            "text/plain": "  [1] 0 1 1 1 0 1 1 1 1 1 0 1 1 0 1 1 0 1 0 1 0 1 0 0 0 0 1 0 1 1 0 1 0 0 1 1 0\n [38] 1 1 1 0 1 0 1 1 1 0 0 1 0 1 1 1 1 0 0 0 1 0 0 1 0 0 1 0 1 0 0 0 1 1 1 1 0\n [75] 1 0 1 1 0 1 0 1 0 0 1 1 0 1 0 0 1 0 1 0 0 0 0 0 1 0",
            "text/latex": "\\begin{enumerate*}\n\\item 0\n\\item 1\n\\item 1\n\\item 1\n\\item 0\n\\item 1\n\\item 1\n\\item 1\n\\item 1\n\\item 1\n\\item 0\n\\item 1\n\\item 1\n\\item 0\n\\item 1\n\\item 1\n\\item 0\n\\item 1\n\\item 0\n\\item 1\n\\item 0\n\\item 1\n\\item 0\n\\item 0\n\\item 0\n\\item 0\n\\item 1\n\\item 0\n\\item 1\n\\item 1\n\\item 0\n\\item 1\n\\item 0\n\\item 0\n\\item 1\n\\item 1\n\\item 0\n\\item 1\n\\item 1\n\\item 1\n\\item 0\n\\item 1\n\\item 0\n\\item 1\n\\item 1\n\\item 1\n\\item 0\n\\item 0\n\\item 1\n\\item 0\n\\item 1\n\\item 1\n\\item 1\n\\item 1\n\\item 0\n\\item 0\n\\item 0\n\\item 1\n\\item 0\n\\item 0\n\\item 1\n\\item 0\n\\item 0\n\\item 1\n\\item 0\n\\item 1\n\\item 0\n\\item 0\n\\item 0\n\\item 1\n\\item 1\n\\item 1\n\\item 1\n\\item 0\n\\item 1\n\\item 0\n\\item 1\n\\item 1\n\\item 0\n\\item 1\n\\item 0\n\\item 1\n\\item 0\n\\item 0\n\\item 1\n\\item 1\n\\item 0\n\\item 1\n\\item 0\n\\item 0\n\\item 1\n\\item 0\n\\item 1\n\\item 0\n\\item 0\n\\item 0\n\\item 0\n\\item 0\n\\item 1\n\\item 0\n\\end{enumerate*}\n",
            "text/markdown": "1. 0\n2. 1\n3. 1\n4. 1\n5. 0\n6. 1\n7. 1\n8. 1\n9. 1\n10. 1\n11. 0\n12. 1\n13. 1\n14. 0\n15. 1\n16. 1\n17. 0\n18. 1\n19. 0\n20. 1\n21. 0\n22. 1\n23. 0\n24. 0\n25. 0\n26. 0\n27. 1\n28. 0\n29. 1\n30. 1\n31. 0\n32. 1\n33. 0\n34. 0\n35. 1\n36. 1\n37. 0\n38. 1\n39. 1\n40. 1\n41. 0\n42. 1\n43. 0\n44. 1\n45. 1\n46. 1\n47. 0\n48. 0\n49. 1\n50. 0\n51. 1\n52. 1\n53. 1\n54. 1\n55. 0\n56. 0\n57. 0\n58. 1\n59. 0\n60. 0\n61. 1\n62. 0\n63. 0\n64. 1\n65. 0\n66. 1\n67. 0\n68. 0\n69. 0\n70. 1\n71. 1\n72. 1\n73. 1\n74. 0\n75. 1\n76. 0\n77. 1\n78. 1\n79. 0\n80. 1\n81. 0\n82. 1\n83. 0\n84. 0\n85. 1\n86. 1\n87. 0\n88. 1\n89. 0\n90. 0\n91. 1\n92. 0\n93. 1\n94. 0\n95. 0\n96. 0\n97. 0\n98. 0\n99. 1\n100. 0\n\n\n",
            "text/html": "<ol class=list-inline>\n\t<li>0</li>\n\t<li>1</li>\n\t<li>1</li>\n\t<li>1</li>\n\t<li>0</li>\n\t<li>1</li>\n\t<li>1</li>\n\t<li>1</li>\n\t<li>1</li>\n\t<li>1</li>\n\t<li>0</li>\n\t<li>1</li>\n\t<li>1</li>\n\t<li>0</li>\n\t<li>1</li>\n\t<li>1</li>\n\t<li>0</li>\n\t<li>1</li>\n\t<li>0</li>\n\t<li>1</li>\n\t<li>0</li>\n\t<li>1</li>\n\t<li>0</li>\n\t<li>0</li>\n\t<li>0</li>\n\t<li>0</li>\n\t<li>1</li>\n\t<li>0</li>\n\t<li>1</li>\n\t<li>1</li>\n\t<li>0</li>\n\t<li>1</li>\n\t<li>0</li>\n\t<li>0</li>\n\t<li>1</li>\n\t<li>1</li>\n\t<li>0</li>\n\t<li>1</li>\n\t<li>1</li>\n\t<li>1</li>\n\t<li>0</li>\n\t<li>1</li>\n\t<li>0</li>\n\t<li>1</li>\n\t<li>1</li>\n\t<li>1</li>\n\t<li>0</li>\n\t<li>0</li>\n\t<li>1</li>\n\t<li>0</li>\n\t<li>1</li>\n\t<li>1</li>\n\t<li>1</li>\n\t<li>1</li>\n\t<li>0</li>\n\t<li>0</li>\n\t<li>0</li>\n\t<li>1</li>\n\t<li>0</li>\n\t<li>0</li>\n\t<li>1</li>\n\t<li>0</li>\n\t<li>0</li>\n\t<li>1</li>\n\t<li>0</li>\n\t<li>1</li>\n\t<li>0</li>\n\t<li>0</li>\n\t<li>0</li>\n\t<li>1</li>\n\t<li>1</li>\n\t<li>1</li>\n\t<li>1</li>\n\t<li>0</li>\n\t<li>1</li>\n\t<li>0</li>\n\t<li>1</li>\n\t<li>1</li>\n\t<li>0</li>\n\t<li>1</li>\n\t<li>0</li>\n\t<li>1</li>\n\t<li>0</li>\n\t<li>0</li>\n\t<li>1</li>\n\t<li>1</li>\n\t<li>0</li>\n\t<li>1</li>\n\t<li>0</li>\n\t<li>0</li>\n\t<li>1</li>\n\t<li>0</li>\n\t<li>1</li>\n\t<li>0</li>\n\t<li>0</li>\n\t<li>0</li>\n\t<li>0</li>\n\t<li>0</li>\n\t<li>1</li>\n\t<li>0</li>\n</ol>\n"
          },
          "metadata": {}
        }
      ]
    },
    {
      "metadata": {},
      "cell_type": "markdown",
      "source": "# Create a user defined function in R"
    },
    {
      "metadata": {},
      "cell_type": "markdown",
      "source": "# # One of the great strengths of R is the user's ability to add functions. \n## In fact, many of the functions in R are actually functions of functions.\n## The structure of a function is given below.\n\n"
    },
    {
      "metadata": {},
      "cell_type": "markdown",
      "source": "### <span style=\"color:blue\"> your_function <- function(arg1, arg2, ... ){ </span>\n\n### <span style=\"color:blue\"> statements</span>\n### <span style=\"color:blue\">  return(object)</span>\n### <span style=\"color:blue\"> } </span>"
    },
    {
      "metadata": {},
      "cell_type": "markdown",
      "source": "### **EXAMPLE** Define a function performing the sum of squares"
    },
    {
      "metadata": {
        "trusted": true
      },
      "cell_type": "code",
      "source": "sum.of.squares <- function(x,y) {\n  z=x^2 + y^2\n    return(z)\n    \n}\n",
      "execution_count": 43,
      "outputs": []
    },
    {
      "metadata": {
        "trusted": true
      },
      "cell_type": "code",
      "source": "# how to call it\nx=1; y=2; \nz=sum.of.squares(x,y)\nprint(z)",
      "execution_count": 46,
      "outputs": [
        {
          "output_type": "stream",
          "text": "[1] 5\n",
          "name": "stdout"
        }
      ]
    },
    {
      "metadata": {},
      "cell_type": "markdown",
      "source": "# More in general, to load your function or your R code stored in \"namefile.R\", use the command source(\"namefile.R\")\n  "
    },
    {
      "metadata": {},
      "cell_type": "markdown",
      "source": "##  <span style=\"color:red\"> Exercise: Impement your own function to compute the square of a binomial (x+y)^2"
    },
    {
      "metadata": {
        "trusted": true
      },
      "cell_type": "code",
      "source": "binomsquare= function(x,y){\n    z=x^2+y^2+2*x*y\n    return(z)\n    \n}",
      "execution_count": 48,
      "outputs": []
    },
    {
      "metadata": {
        "trusted": true
      },
      "cell_type": "code",
      "source": "x=1;y=2;\nm=binomsquare(x,y)\nprint(m)",
      "execution_count": 50,
      "outputs": [
        {
          "output_type": "stream",
          "text": "[1] 9\n",
          "name": "stdout"
        }
      ]
    },
    {
      "metadata": {},
      "cell_type": "markdown",
      "source": "# How to find the factorial of an integer number"
    },
    {
      "metadata": {
        "trusted": true
      },
      "cell_type": "code",
      "source": "# take input from the user\nnum = as.integer(readline(prompt=\"Enter a number: \"))\nfactorial = 1\n# check is the number is negative, positive or zero\nif(num < 0) {\nprint(\"Sorry, factorial does not exist for negative numbers\")\n} else if(num == 0) {\nprint(\"The factorial of 0 is 1\")\n} else {\nfor(i in 1:num) {\nfactorial = factorial * i\n}\nprint(paste(\"The factorial of\", num ,\"is\",factorial))\n}",
      "execution_count": 52,
      "outputs": [
        {
          "output_type": "stream",
          "name": "stdout",
          "text": "Enter a number: 8\n[1] \"The factorial of 8 is 40320\"\n"
        }
      ]
    },
    {
      "metadata": {},
      "cell_type": "markdown",
      "source": "## Here, we take input from the user and check if the number is negative, zero or positive using if...else statement.\n\n## If the number is positive, we use for loop to calculate the factorial.\n\n## We can also use the built-in function factorial() for this.\n"
    },
    {
      "metadata": {
        "trusted": true
      },
      "cell_type": "code",
      "source": "factorial(8)",
      "execution_count": 53,
      "outputs": [
        {
          "output_type": "display_data",
          "data": {
            "text/plain": "[1] 40320",
            "text/latex": "40320",
            "text/markdown": "40320",
            "text/html": "40320"
          },
          "metadata": {}
        }
      ]
    },
    {
      "metadata": {},
      "cell_type": "markdown",
      "source": "## *NB* be carefulf with the factorial fuction! Calculators have memoy limits!\n\nIf you ever heard the expression of 32-bit computers or 64-bit computers, then you are already pretty close to figuring out how large a number can be.\n\nYou probably know that computers calculate in binary (we humans commonly do in decimals). A bit is what we could call a digit. Now, the largest number you can achieve with one digit is 9. And with two digits it's 99. And so on.\n\nIn binary, you usually have units with size either 32 bits or 64 bits respectively.\nI suggest you to learn how binary works but I try to make a quick analogy:\n\n67 = 10^1 * 6 + 10^0 * 7 = 10 * 6 + 1 * 7 = 60 + 7\n121 = 10^2 * 1 + 10^1 * 2 + 10^0 + 1 = 100 + 20 + 1\nSo each digit is related with a power of ten. In binary, it's the same but with powers of two! Also, in binary, we only have the numbers 1 and 0. Thus:\n\n10 = 2^1 * 1 + 2^0 * 0 = 2 * 1 + 1 * 0 = 2 + 0 = 2\n1011 = 2^3 * 1 + 2^2 * 0 + 2^1 * 1 + 2^0 * 1 = 8 * 1 + 0 + 2 + 2 * 1 = 12\nNow, assuming that we leave out negative numbers, with 32 bits, the largest numbers is 32 ones:\n\n11111111111111111111111111111111 = 4,294,967,295\n"
    },
    {
      "metadata": {},
      "cell_type": "markdown",
      "source": "# Birthday Problem"
    },
    {
      "metadata": {},
      "cell_type": "markdown",
      "source": "\nIn a classroom of $n$ students, what is the probability $p_n$ that two (or more) students share\nthe same birthday?\n\nIt's easier to compute the probability that no two students share a birthday.\nLet's look at the students one at a time.\nThe first student can have any birthday he/she likes.\nThe second student can not share the first student's birthday: 364 choices.\nThe third student cannot share either of the first two birthdays: 363 choices.\n... Etc. ...\nThe $n-th$ student cannot share any of the previous $n - 1$ birthdays: $365 - n + 1$ choices.\n\nTherefore, probability of no shared birthdays is\n\\begin{equation}\n\\frac{365\\times364 \\times \\ldots (365 - n + 1)}{365^n}\n\\end{equation}\n\nand the probability of a shared birthday is\n\\begin{equation}\n1 - \\frac{365\\times364 \\times \\ldots (365 - n + 1)}{365^n}\n\\end{equation}\n\nFor $n = 23$, the answer is $p_{23} = 0.507$"
    },
    {
      "metadata": {
        "trusted": true
      },
      "cell_type": "code",
      "source": "birthday <- function(n){\n  p = 1;\n  for(a in seq(365,365-n+1,-1)){\n    p = p * a/365;\n    }\n  return(1-p)\n  }\n\n",
      "execution_count": 54,
      "outputs": []
    },
    {
      "metadata": {
        "trusted": true
      },
      "cell_type": "code",
      "source": "birthday(23)",
      "execution_count": 55,
      "outputs": [
        {
          "output_type": "display_data",
          "data": {
            "text/plain": "[1] 0.5072972",
            "text/latex": "0.507297234323986",
            "text/markdown": "0.507297234323986",
            "text/html": "0.507297234323986"
          },
          "metadata": {}
        }
      ]
    },
    {
      "metadata": {},
      "cell_type": "markdown",
      "source": "## R built in function: pbirthday()"
    },
    {
      "metadata": {
        "trusted": true
      },
      "cell_type": "code",
      "source": "pbirthday(23)",
      "execution_count": 56,
      "outputs": [
        {
          "output_type": "display_data",
          "data": {
            "text/plain": "[1] 0.5072972",
            "text/latex": "0.507297234323985",
            "text/markdown": "0.507297234323985",
            "text/html": "0.507297234323985"
          },
          "metadata": {}
        }
      ]
    },
    {
      "metadata": {
        "trusted": true
      },
      "cell_type": "code",
      "source": "",
      "execution_count": null,
      "outputs": []
    }
  ],
  "metadata": {
    "kernelspec": {
      "name": "r",
      "display_name": "R",
      "language": "R"
    },
    "language_info": {
      "mimetype": "text/x-r-source",
      "name": "R",
      "pygments_lexer": "r",
      "version": "3.4.1",
      "file_extension": ".r",
      "codemirror_mode": "r"
    }
  },
  "nbformat": 4,
  "nbformat_minor": 2
}